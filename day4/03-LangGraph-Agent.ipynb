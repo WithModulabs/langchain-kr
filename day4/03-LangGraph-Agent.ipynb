{
 "cells": [
  {
   "cell_type": "markdown",
   "id": "eec680f5",
   "metadata": {},
   "source": [
    "# LangGraph 활용 Agent 구축\n",
    "\n",
    "이번 튜토리얼에서는 웹 검색 도구를 통해 챗봇에 웹 검색 기능수행하는 Agent 을 추가합니다.\n",
    "\n",
    "LLM 에 도구를 바인딩하여 LLM 에 입력된 요청에 따라 필요시 웹 검색 도구(Tool)를 호출하는 Agent 을 구축합니다.\n",
    "\n",
    "뿐만아니라, 조건부 엣지를 통해 도구 호출 여부에 따라 다른 노드로 라우팅하는 방법도 함께 배워봅니다."
   ]
  },
  {
   "cell_type": "code",
   "execution_count": 1,
   "id": "de9d9d8d",
   "metadata": {},
   "outputs": [
    {
     "data": {
      "text/plain": [
       "True"
      ]
     },
     "execution_count": 1,
     "metadata": {},
     "output_type": "execute_result"
    }
   ],
   "source": [
    "# API 키를 환경변수로 관리하기 위한 설정 파일\n",
    "from dotenv import load_dotenv\n",
    "\n",
    "# API 키 정보 로드\n",
    "load_dotenv()"
   ]
  },
  {
   "cell_type": "markdown",
   "id": "9d5376bf",
   "metadata": {},
   "source": [
    "## 도구(Tool) 사용하기\n",
    "\n",
    "**참고**\n",
    "\n",
    "- [도구(Tools)](https://wikidocs.net/262582)\n",
    "\n",
    "챗봇이 \"기억\"에서 답변할 수 없는 질문을 처리하기 위해 웹 검색 도구를 통합할 것입니다. 이 도구를 사용하여 관련 정보를 찾아 더 나은 응답을 제공할 수 있습니다.\n",
    "\n",
    "### 검색 API 도구\n",
    "\n",
    "Tavily 검색 API를 활용하여 검색 기능을 구현하는 도구입니다. 이 도구는 두 가지 주요 클래스를 제공합니다: `TavilySearchResults`와 `TavilyAnswer`.\n",
    "\n",
    "**API 키 발급 주소**\n",
    "- https://app.tavily.com/\n",
    "\n",
    "발급한 API 키를 환경변수에 설정합니다.\n",
    "\n",
    "`.env` 파일에 아래와 같이 설정합니다.\n",
    "\n",
    "```\n",
    "TAVILY_API_KEY=tvly-abcdefghijklmnopqrstuvwxyz\n",
    "```\n",
    "\n",
    "### TavilySearchResults\n",
    "\n",
    "**설명**\n",
    "- Tavily 검색 API를 쿼리하고 JSON 형식의 결과를 반환합니다.\n",
    "- 포괄적이고 정확하며 신뢰할 수 있는 결과에 최적화된 검색 엔진입니다.\n",
    "- 현재 이벤트에 대한 질문에 답변할 때 유용합니다."
   ]
  },
  {
   "cell_type": "markdown",
   "id": "81cbcea8",
   "metadata": {},
   "source": [
    "다음으로 웹 검색 도구인 `TavilySearchResults`를 생성합니다."
   ]
  },
  {
   "cell_type": "code",
   "execution_count": 4,
   "id": "163da255",
   "metadata": {},
   "outputs": [],
   "source": [
    "# !pip install -U langchain-teddynote"
   ]
  },
  {
   "cell_type": "code",
   "execution_count": 2,
   "id": "c04fccdb",
   "metadata": {},
   "outputs": [
    {
     "name": "stdout",
     "output_type": "stream",
     "text": [
      "[{'url': 'https://www.youtube.com/watch?v=mVu6Wj8Z7C0', 'title': '랭체인 한국어 튜토리얼     업데이트 소식   처음 사용자를 위한 친절한 ...', 'content': '#랭체인 한국어 튜토리얼🇰🇷 업데이트 소식🔥 처음 사용자를 위한 친절한 환경설치(Windows, Mac)\\n\\n테디노트 TeddyNote\\n317 likes\\n16451 views\\n19 Jun 2024\\n📝 환경설정(Windows)\\nhttps://teddynote.com/10-RAG%EB%B9%84%EB%B2%95%EB%85%B8%ED%8A%B8/%ED%99%98%EA%B2%BD%20%EC%84%A4%EC%A0%95%20(Windows)/\\n\\n📝 환경설정(Mac)\\nhttps://teddynote.com/10-RAG%EB%B9%84%EB%B2%95%EB%85%B8%ED%8A%B8/%ED%99%98%EA%B2%BD%20%EC%84%A4%EC%A0%95%20(Mac)/\\n\\n📍[패스트캠퍼스] \"테디노트의 RAG 비법노트\" 강의\\n링크: https://bit.ly/4e1h8zO\\n\\n🤖 디스코드 채널\\nhttps://discord.gg/q3RvQZ5CfK\\n\\n📘 랭체인 튜토리얼 무료 전자책(wikidocs)\\nhttps://wikidocs.net/book/14314\\n\\n✅ 랭체인 한국어 튜토리얼 코드저장소(GitHub)\\nhttps://github.com/teddylee777/langchain-kr\\n\\n✅ 줄거리\\n00:00 랭체인 한국어 튜토리얼 공지사항\\n01:59 langchain-teddynote 패키지\\n08:25 감사인사\\n09:15 Windows 환경설치\\n21:48 Mac 환경설치\\n\\n#rag #langchain\\n---\\n📍 \"테디노트의 RAG 비법노트\" 랭체인 강의: https://fastcampus.co.kr/data_online_teddy\\n📘 랭체인 한국어 튜토리얼(무료 전자책): https://wikidocs.net/book/14314\\n📝 테디노트(깃헙 블로그) : https://teddylee777.github.io\\n💻 GitHub 소스코드 저장소: https://github.com/teddylee777\\n77 comments', 'score': 0.7598145, 'raw_content': '# #랭체인 한국어 튜토리얼🇰🇷 업데이트 소식🔥 처음 사용자를 위한 친절한 환경설치(Windows, Mac)\\n\\n테디노트 TeddyNote\\n317 likes\\n16451 views\\n19 Jun 2024\\n📝 환경설정(Windows)\\nhttps://teddynote.com/10-RAG%EB%B9%84%EB%B2%95%EB%85%B8%ED%8A%B8/%ED%99%98%EA%B2%BD%20%EC%84%A4%EC%A0%95%20(Windows)/\\n\\n📝 환경설정(Mac)\\nhttps://teddynote.com/10-RAG%EB%B9%84%EB%B2%95%EB%85%B8%ED%8A%B8/%ED%99%98%EA%B2%BD%20%EC%84%A4%EC%A0%95%20(Mac)/\\n\\n📍[패스트캠퍼스] \"테디노트의 RAG 비법노트\" 강의\\n링크: https://bit.ly/4e1h8zO\\n\\n🤖 디스코드 채널\\nhttps://discord.gg/q3RvQZ5CfK\\n\\n📘 랭체인 튜토리얼 무료 전자책(wikidocs)\\nhttps://wikidocs.net/book/14314\\n\\n✅ 랭체인 한국어 튜토리얼 코드저장소(GitHub)\\nhttps://github.com/teddylee777/langchain-kr\\n\\n✅ 줄거리\\n00:00 랭체인 한국어 튜토리얼 공지사항\\n01:59 langchain-teddynote 패키지\\n08:25 감사인사\\n09:15 Windows 환경설치\\n21:48 Mac 환경설치\\n\\n#rag #langchain\\n---\\n📍 \"테디노트의 RAG 비법노트\" 랭체인 강의: https://fastcampus.co.kr/data_online_teddy\\n📘 랭체인 한국어 튜토리얼(무료 전자책): https://wikidocs.net/book/14314\\n📝 테디노트(깃헙 블로그) : https://teddylee777.github.io\\n💻 GitHub 소스코드 저장소: https://github.com/teddylee777\\n77 comments'}, {'url': 'https://wikidocs.net/book/14314', 'title': '<랭체인LangChain 노트> - LangChain 한국어 튜토리얼 - 위키독스', 'content': '<랭체인LangChain 노트> - LangChain 한국어 튜토리얼 . 지은이: 테디노트. 최종 편집일시 : 2025년 4월 30일 8:06', 'score': 0.6342494, 'raw_content': None}, {'url': 'https://github.com/teddylee777/langchain-kr', 'title': 'teddylee777/langchain-kr - GitHub', 'content': 'LangChain 공식 Document, Cookbook, 그 밖의 실용 예제를 바탕으로 작성한 한국어 튜토리얼입니다. 본 튜토리얼을 통해 LangChain을 더 쉽고 효과적으로 사용하는 방법을 배울 수 있습니다. teddylee777/langchain-kr Folders and files Name | Name | Last commit message | Last commit date Latest commitHistory403 Commits 01-Basic | 01-Basic | | 02-Prompt | 02-Prompt | | 03-OutputParser | 03-OutputParser | | 04-Model | 04-Model | | 05-Memory | 05-Memory | | 06-DocumentLoader | 06-DocumentLoader | | 07-TextSplitter | 07-TextSplitter | | 08-Embeddings | 08-Embeddings | | 09-VectorStore | 09-VectorStore | | 10-Retriever | 10-Retriever | | 11-Reranker | 11-Reranker | | 12-RAG | 12-RAG | | 13-LangChain-Expression-Language | 13-LangChain-Expression-Language | | 14-Chains | 14-Chains | | 15-Agent | 15-Agent | | 16-Evaluations | 16-Evaluations | | 17-LangGraph | 17-LangGraph | | 18-FineTuning | 18-FineTuning | | 19-Streamlit | 19-Streamlit | | 20-Projects/01-ParsingOutput | 20-Projects/01-ParsingOutput | | 22-OpenAI | 22-OpenAI | | 99-Projects | 99-Projects | | images | images | | .env_sample | .env_sample | | .gitignore | .gitignore | | .python-version | .python-version | | LICENSE | LICENSE | | README.md | README.md | | poetry.lock | poetry.lock | | pyproject.toml | pyproject.toml | | requirements-mini.txt | requirements-mini.txt | | requirements-onnx.txt | requirements-onnx.txt | | requirements.txt | requirements.txt | | View all files Latest commit History Repository files navigation 📘 LangChain 한국어 튜토리얼 🌟 LangChain 공식 Document, Cookbook, 그 밖의 실용 예제를 바탕으로 작성한 한국어 튜토리얼입니다. 본 튜토리얼을 통해 LangChain을 더 쉽고 효과적으로 사용하는 방법을 배울 수 있습니다.', 'score': 0.6222074, 'raw_content': '## Navigation Menu\\n\\n# Search code, repositories, users, issues, pull requests...\\n\\n# Provide feedback\\n\\nWe read every piece of feedback, and take your input very seriously.\\n\\n# Saved searches\\n\\n## Use saved searches to filter your results more quickly\\n\\nTo see all available qualifiers, see our [documentation](https://docs.github.com/search-github/github-code-search/understanding-github-code-search-syntax).\\n\\nLangChain 공식 Document, Cookbook, 그 밖의 실용 예제를 바탕으로 작성한 한국어 튜토리얼입니다. 본 튜토리얼을 통해 LangChain을 더 쉽고 효과적으로 사용하는 방법을 배울 수 있습니다.\\n\\n### License\\n\\n### Uh oh!\\n\\nThere was an error while loading. Please reload this page.\\n\\nThere was an error while loading. Please reload this page.\\n\\n# teddylee777/langchain-kr\\n\\n## Folders and files\\n\\n| Name | | Name | Last commit message | Last commit date |\\n| --- | --- | --- | --- | --- |\\n| Latest commit   History[403 Commits](/teddylee777/langchain-kr/commits/main/) | | |\\n| [01-Basic](/teddylee777/langchain-kr/tree/main/01-Basic \"01-Basic\") | | [01-Basic](/teddylee777/langchain-kr/tree/main/01-Basic \"01-Basic\") |  |  |\\n| [02-Prompt](/teddylee777/langchain-kr/tree/main/02-Prompt \"02-Prompt\") | | [02-Prompt](/teddylee777/langchain-kr/tree/main/02-Prompt \"02-Prompt\") |  |  |\\n| [03-OutputParser](/teddylee777/langchain-kr/tree/main/03-OutputParser \"03-OutputParser\") | | [03-OutputParser](/teddylee777/langchain-kr/tree/main/03-OutputParser \"03-OutputParser\") |  |  |\\n| [04-Model](/teddylee777/langchain-kr/tree/main/04-Model \"04-Model\") | | [04-Model](/teddylee777/langchain-kr/tree/main/04-Model \"04-Model\") |  |  |\\n| [05-Memory](/teddylee777/langchain-kr/tree/main/05-Memory \"05-Memory\") | | [05-Memory](/teddylee777/langchain-kr/tree/main/05-Memory \"05-Memory\") |  |  |\\n| [06-DocumentLoader](/teddylee777/langchain-kr/tree/main/06-DocumentLoader \"06-DocumentLoader\") | | [06-DocumentLoader](/teddylee777/langchain-kr/tree/main/06-DocumentLoader \"06-DocumentLoader\") |  |  |\\n| [07-TextSplitter](/teddylee777/langchain-kr/tree/main/07-TextSplitter \"07-TextSplitter\") | | [07-TextSplitter](/teddylee777/langchain-kr/tree/main/07-TextSplitter \"07-TextSplitter\") |  |  |\\n| [08-Embeddings](/teddylee777/langchain-kr/tree/main/08-Embeddings \"08-Embeddings\") | | [08-Embeddings](/teddylee777/langchain-kr/tree/main/08-Embeddings \"08-Embeddings\") |  |  |\\n| [09-VectorStore](/teddylee777/langchain-kr/tree/main/09-VectorStore \"09-VectorStore\") | | [09-VectorStore](/teddylee777/langchain-kr/tree/main/09-VectorStore \"09-VectorStore\") |  |  |\\n| [10-Retriever](/teddylee777/langchain-kr/tree/main/10-Retriever \"10-Retriever\") | | [10-Retriever](/teddylee777/langchain-kr/tree/main/10-Retriever \"10-Retriever\") |  |  |\\n| [11-Reranker](/teddylee777/langchain-kr/tree/main/11-Reranker \"11-Reranker\") | | [11-Reranker](/teddylee777/langchain-kr/tree/main/11-Reranker \"11-Reranker\") |  |  |\\n| [12-RAG](/teddylee777/langchain-kr/tree/main/12-RAG \"12-RAG\") | | [12-RAG](/teddylee777/langchain-kr/tree/main/12-RAG \"12-RAG\") |  |  |\\n| [13-LangChain-Expression-Language](/teddylee777/langchain-kr/tree/main/13-LangChain-Expression-Language \"13-LangChain-Expression-Language\") | | [13-LangChain-Expression-Language](/teddylee777/langchain-kr/tree/main/13-LangChain-Expression-Language \"13-LangChain-Expression-Language\") |  |  |\\n| [14-Chains](/teddylee777/langchain-kr/tree/main/14-Chains \"14-Chains\") | | [14-Chains](/teddylee777/langchain-kr/tree/main/14-Chains \"14-Chains\") |  |  |\\n| [15-Agent](/teddylee777/langchain-kr/tree/main/15-Agent \"15-Agent\") | | [15-Agent](/teddylee777/langchain-kr/tree/main/15-Agent \"15-Agent\") |  |  |\\n| [16-Evaluations](/teddylee777/langchain-kr/tree/main/16-Evaluations \"16-Evaluations\") | | [16-Evaluations](/teddylee777/langchain-kr/tree/main/16-Evaluations \"16-Evaluations\") |  |  |\\n| [17-LangGraph](/teddylee777/langchain-kr/tree/main/17-LangGraph \"17-LangGraph\") | | [17-LangGraph](/teddylee777/langchain-kr/tree/main/17-LangGraph \"17-LangGraph\") |  |  |\\n| [18-FineTuning](/teddylee777/langchain-kr/tree/main/18-FineTuning \"18-FineTuning\") | | [18-FineTuning](/teddylee777/langchain-kr/tree/main/18-FineTuning \"18-FineTuning\") |  |  |\\n| [19-Streamlit](/teddylee777/langchain-kr/tree/main/19-Streamlit \"19-Streamlit\") | | [19-Streamlit](/teddylee777/langchain-kr/tree/main/19-Streamlit \"19-Streamlit\") |  |  |\\n| [20-Projects/01-ParsingOutput](/teddylee777/langchain-kr/tree/main/20-Projects/01-ParsingOutput \"This path skips through empty directories\") | | [20-Projects/01-ParsingOutput](/teddylee777/langchain-kr/tree/main/20-Projects/01-ParsingOutput \"This path skips through empty directories\") |  |  |\\n| [22-OpenAI](/teddylee777/langchain-kr/tree/main/22-OpenAI \"22-OpenAI\") | | [22-OpenAI](/teddylee777/langchain-kr/tree/main/22-OpenAI \"22-OpenAI\") |  |  |\\n| [99-Projects](/teddylee777/langchain-kr/tree/main/99-Projects \"99-Projects\") | | [99-Projects](/teddylee777/langchain-kr/tree/main/99-Projects \"99-Projects\") |  |  |\\n| [images](/teddylee777/langchain-kr/tree/main/images \"images\") | | [images](/teddylee777/langchain-kr/tree/main/images \"images\") |  |  |\\n| [.env\\\\_sample](/teddylee777/langchain-kr/blob/main/.env_sample \".env_sample\") | | [.env\\\\_sample](/teddylee777/langchain-kr/blob/main/.env_sample \".env_sample\") |  |  |\\n| [.gitignore](/teddylee777/langchain-kr/blob/main/.gitignore \".gitignore\") | | [.gitignore](/teddylee777/langchain-kr/blob/main/.gitignore \".gitignore\") |  |  |\\n| [.python-version](/teddylee777/langchain-kr/blob/main/.python-version \".python-version\") | | [.python-version](/teddylee777/langchain-kr/blob/main/.python-version \".python-version\") |  |  |\\n| [LICENSE](/teddylee777/langchain-kr/blob/main/LICENSE \"LICENSE\") | | [LICENSE](/teddylee777/langchain-kr/blob/main/LICENSE \"LICENSE\") |  |  |\\n| [README.md](/teddylee777/langchain-kr/blob/main/README.md \"README.md\") | | [README.md](/teddylee777/langchain-kr/blob/main/README.md \"README.md\") |  |  |\\n| [poetry.lock](/teddylee777/langchain-kr/blob/main/poetry.lock \"poetry.lock\") | | [poetry.lock](/teddylee777/langchain-kr/blob/main/poetry.lock \"poetry.lock\") |  |  |\\n| [pyproject.toml](/teddylee777/langchain-kr/blob/main/pyproject.toml \"pyproject.toml\") | | [pyproject.toml](/teddylee777/langchain-kr/blob/main/pyproject.toml \"pyproject.toml\") |  |  |\\n| [requirements-mini.txt](/teddylee777/langchain-kr/blob/main/requirements-mini.txt \"requirements-mini.txt\") | | [requirements-mini.txt](/teddylee777/langchain-kr/blob/main/requirements-mini.txt \"requirements-mini.txt\") |  |  |\\n| [requirements-onnx.txt](/teddylee777/langchain-kr/blob/main/requirements-onnx.txt \"requirements-onnx.txt\") | | [requirements-onnx.txt](/teddylee777/langchain-kr/blob/main/requirements-onnx.txt \"requirements-onnx.txt\") |  |  |\\n| [requirements.txt](/teddylee777/langchain-kr/blob/main/requirements.txt \"requirements.txt\") | | [requirements.txt](/teddylee777/langchain-kr/blob/main/requirements.txt \"requirements.txt\") |  |  |\\n| View all files | | |\\n\\n## Latest commit\\n\\n## History\\n\\n## Repository files navigation\\n\\n# 📘 LangChain 한국어 튜토리얼\\n\\n[![](/teddylee777/langchain-kr/raw/main/images/welcome.png)](/teddylee777/langchain-kr/blob/main/images/welcome.png)\\n\\n![](/teddylee777/langchain-kr/raw/main/images/welcome.png)\\n\\n🌟 **LangChain 공식 Document, Cookbook, 그 밖의 실용 예제**를 바탕으로 작성한 한국어 튜토리얼입니다.\\n\\n본 튜토리얼을 통해 LangChain을 더 쉽고 효과적으로 사용하는 방법을 배울 수 있습니다.\\n\\n## 📔 위키독스 전자책(무료)\\n\\n[![한 권으로 끝내는 랭체인 노트](/teddylee777/langchain-kr/raw/main/images/langchain-note.png)](/teddylee777/langchain-kr/blob/main/images/langchain-note.png)\\n\\n![한 권으로 끝내는 랭체인 노트](/teddylee777/langchain-kr/raw/main/images/langchain-note.png)\\n\\n위키독스에 **무료** 전자책을 등록하였습니다✌️\\n\\n위키독스 페이지에서 **책 \"추천\"** 버튼 한 번씩만 눌러 주시면 제작에 큰 힘이 됩니다. 미리 감사 드립니다🫶\\n\\n틈나는대로 열심히 업데이트 하고 있습니다. 앞으로도 신규 기능이 추가 될 때마다 빠르게 x100 **업데이트** 예정입니다.\\n\\n## 🍿 유튜브\\n\\n## ✏️ 블로그 글 목록\\n\\n### General\\n\\n### OpenAI Python API\\n\\n### LangChain\\n\\n### LangGraph\\n\\n## 👥 LangChain 밋업 2024 Q1 발표자료\\n\\n## 📜 라이선스\\n\\n본 프로젝트는 [Apache License 2.0](https://www.apache.org/licenses/LICENSE-2.0)에 따라 라이선스가 부여됩니다.\\n\\n### 🚫 라이선스 고지\\n\\n🔒 본 내용의 저작권은 2024년 [테디노트](https://teddylee777.github.io)에 있습니다. 모든 권리는 저작권자에게 있으며, [teddylee777@gmail.com](mailto:teddylee777@gmail.com) 으로 문의할 수 있습니다.\\n\\n`Copyright 2024 테디노트(teddylee777@gmail.com)\\nLicensed under the Apache License, Version 2.0 (the \"License\");\\nyou may not use this file except in compliance with the License.\\nYou may obtain a copy of the License at\\nhttp://www.apache.org/licenses/LICENSE-2.0\\nUnless required by applicable law or agreed to in writing, software\\ndistributed under the License is distributed on an \"AS IS\" BASIS,\\nWITHOUT WARRANTIES OR CONDITIONS OF ANY KIND, either express or implied.\\nSee the License for the specific language governing permissions and\\nlimitations under the License.`\\n\\n**인용 및 출처 표기**\\n\\n**상업적 사용에 대한 사전 협의**\\n\\n본 내용의 무단 전재 및 재배포를 금지합니다. 본 내용의 전체 혹은 일부를 인용할 경우, 출처를 명확히 밝혀주시기 바랍니다.\\n본 문서는 다른 문서의 내용을 참고하여 작성되었을 수 있습니다. 참고 자료는 본 문서 하단의 출처 목록에서 확인하실 수 있습니다.\\n\\n## 📚 출처\\n\\n## 🌐 추가 자료\\n\\n## 🚀 시작하기\\n\\n본 튜토리얼을 시작하기 전에, LangChain과 관련된 기본적인 지식을 갖추는 것이 좋습니다. 위의 출처 링크를 통해 기본적인 정보를 얻을 수 있습니다.\\n\\n## Start History\\n\\n[![Star History Chart](https://camo.githubusercontent.com/9df2d8b029cdf00add32ba47795dfd086f73fcb28d2510fd457524b1729461a8/68747470733a2f2f6170692e737461722d686973746f72792e636f6d2f7376673f7265706f733d74656464796c65653737372f6c616e67636861696e2d6b7226747970653d44617465)](https://star-history.com/#teddylee777/langchain-kr&Date)\\n\\n![Star History Chart](https://camo.githubusercontent.com/9df2d8b029cdf00add32ba47795dfd086f73fcb28d2510fd457524b1729461a8/68747470733a2f2f6170692e737461722d686973746f72792e636f6d2f7376673f7265706f733d74656464796c65653737372f6c616e67636861696e2d6b7226747970653d44617465)\\n\\n## 💡 컨트리뷰션\\n\\n본 튜토리얼에 기여하고자 하는 분들은 언제든지 풀 리퀘스트를 보내주시거나, 이슈를 등록하여 의견을 공유해 주시기 바랍니다. 모든 기여는 본 프로젝트의 발전에 큰 도움이 됩니다. 💖\\n\\n[![teddylee777](https://camo.githubusercontent.com/7b8f7343bfc6e3c65c7901846637b603fd812f1a5f768d8b0572558bde859eb9/68747470733a2f2f63646e2e6275796d6561636f666665652e636f6d2f627574746f6e732f76322f64656661756c742d79656c6c6f772e706e67)](https://www.buymeacoffee.com/teddylee777)\\n\\n![teddylee777](https://camo.githubusercontent.com/7b8f7343bfc6e3c65c7901846637b603fd812f1a5f768d8b0572558bde859eb9/68747470733a2f2f63646e2e6275796d6561636f666665652e636f6d2f627574746f6e732f76322f64656661756c742d79656c6c6f772e706e67)\\n\\n## About\\n\\nLangChain 공식 Document, Cookbook, 그 밖의 실용 예제를 바탕으로 작성한 한국어 튜토리얼입니다. 본 튜토리얼을 통해 LangChain을 더 쉽고 효과적으로 사용하는 방법을 배울 수 있습니다.\\n\\n### Topics\\n\\n### Resources\\n\\n### License\\n\\n### Uh oh!\\n\\nThere was an error while loading. Please reload this page.\\n\\nThere was an error while loading. Please reload this page.\\n\\n### Stars\\n\\n### Watchers\\n\\n### Forks\\n\\n## [Releases](/teddylee777/langchain-kr/releases)\\n\\n## [Packages 0](/users/teddylee777/packages?repo_name=langchain-kr)\\n\\n### Uh oh!\\n\\nThere was an error while loading. Please reload this page.\\n\\nThere was an error while loading. Please reload this page.\\n\\n## [Contributors 5](/teddylee777/langchain-kr/graphs/contributors)\\n\\n![@teddylee777](https://avatars.githubusercontent.com/u/10074379?s=64&v=4)\\n![@sunholee0127](https://avatars.githubusercontent.com/u/3012140?s=64&v=4)\\n![@hellocosmos](https://avatars.githubusercontent.com/u/14368830?s=64&v=4)\\n![@hajubal](https://avatars.githubusercontent.com/u/30306097?s=64&v=4)\\n![@teddynote](https://avatars.githubusercontent.com/u/65653116?s=64&v=4)\\n\\n## Languages\\n\\n## Footer\\n\\n### Footer navigation'}]\n"
     ]
    }
   ],
   "source": [
    "from langchain_teddynote.tools.tavily import TavilySearch\n",
    "\n",
    "# 검색 도구 생성\n",
    "tool = TavilySearch(max_results=3)\n",
    "\n",
    "# 도구 목록에 추가\n",
    "tools = [tool]\n",
    "\n",
    "# 도구 실행\n",
    "print(tool.invoke(\"테디노트 랭체인 튜토리얼\"))"
   ]
  },
  {
   "cell_type": "markdown",
   "id": "b51b6ca3",
   "metadata": {},
   "source": [
    "결과는 챗봇이 질문에 답할 수 있도록 사용할 수 있는 페이지 요약입니다.\n",
    "\n",
    "이번에는 LLM에 `bind_tools`를 추가하여 **LLM + 도구** 를 구성합니다. "
   ]
  },
  {
   "cell_type": "code",
   "execution_count": 3,
   "id": "d6166da5",
   "metadata": {},
   "outputs": [],
   "source": [
    "from typing import Annotated\n",
    "from typing_extensions import TypedDict\n",
    "from langgraph.graph.message import add_messages\n",
    "\n",
    "\n",
    "# State 정의\n",
    "class State(TypedDict):\n",
    "    # list 타입에 add_messages 적용(list 에 message 추가)\n",
    "    messages: Annotated[list, add_messages]"
   ]
  },
  {
   "cell_type": "markdown",
   "id": "efe9e3c7",
   "metadata": {},
   "source": [
    "LLM 을 정의하고 도구를 바인딩합니다."
   ]
  },
  {
   "cell_type": "code",
   "execution_count": 4,
   "id": "8c65ea60",
   "metadata": {},
   "outputs": [],
   "source": [
    "from langchain_openai import ChatOpenAI\n",
    "\n",
    "# LLM 초기화\n",
    "llm = ChatOpenAI(model=\"gpt-4o-mini\")\n",
    "\n",
    "# LLM 에 도구 바인딩\n",
    "llm_with_tools = llm.bind_tools(tools)"
   ]
  },
  {
   "cell_type": "markdown",
   "id": "cc0c2841",
   "metadata": {},
   "source": [
    "노드를 정의합니다."
   ]
  },
  {
   "cell_type": "code",
   "execution_count": 5,
   "id": "028d36e5",
   "metadata": {},
   "outputs": [],
   "source": [
    "# 노드 함수 정의\n",
    "def chatbot(state: State):\n",
    "    answer = llm_with_tools.invoke(state[\"messages\"])\n",
    "    # 메시지 목록 반환\n",
    "    return {\"messages\": [answer]}  # 자동으로 add_messages 적용"
   ]
  },
  {
   "cell_type": "markdown",
   "id": "d5c798e0",
   "metadata": {},
   "source": [
    "그래프 생성 및 노드를 추가합니다."
   ]
  },
  {
   "cell_type": "code",
   "execution_count": 6,
   "id": "8e8d16a3",
   "metadata": {},
   "outputs": [
    {
     "data": {
      "text/plain": [
       "<langgraph.graph.state.StateGraph at 0x15f409512e0>"
      ]
     },
     "execution_count": 6,
     "metadata": {},
     "output_type": "execute_result"
    }
   ],
   "source": [
    "from langgraph.graph import StateGraph\n",
    "\n",
    "# 상태 그래프 초기화\n",
    "graph_builder = StateGraph(State)\n",
    "\n",
    "# 노드 추가\n",
    "graph_builder.add_node(\"chatbot\", chatbot)"
   ]
  },
  {
   "cell_type": "markdown",
   "id": "a034ee74",
   "metadata": {},
   "source": [
    "## 도구 노드(Tool Node)"
   ]
  },
  {
   "cell_type": "markdown",
   "id": "89b08e3f",
   "metadata": {},
   "source": [
    "다음으로, 도구가 호출될 경우 실제로 실행할 수 있는 함수를 만들어야 합니다. 이를 위해 새로운 노드에 도구를 추가합니다.\n",
    "\n",
    "가장 최근의 메시지를 확인하고 메시지에 `tool_calls`가 포함되어 있으면 도구를 호출하는 `BasicToolNode`를 구현합니다. \n",
    "\n",
    "지금은 직접 구현하지만, 나중에는 LangGraph의 pre-built 되어있는 [ToolNode](https://langchain-ai.github.io/langgraph/reference/prebuilt/#langgraph.prebuilt.tool_node.ToolNode) 로 대체할 수 있습니다."
   ]
  },
  {
   "cell_type": "code",
   "execution_count": 7,
   "id": "f1437765",
   "metadata": {},
   "outputs": [
    {
     "data": {
      "text/plain": [
       "<langgraph.graph.state.StateGraph at 0x15f409512e0>"
      ]
     },
     "execution_count": 7,
     "metadata": {},
     "output_type": "execute_result"
    }
   ],
   "source": [
    "import json\n",
    "from langchain_core.messages import ToolMessage\n",
    "\n",
    "\n",
    "class BasicToolNode:\n",
    "    \"\"\"Run tools requested in the last AIMessage node\"\"\"\n",
    "\n",
    "    def __init__(self, tools: list) -> None:\n",
    "        # 도구 리스트\n",
    "        self.tools_list = {tool.name: tool for tool in tools}\n",
    "\n",
    "    def __call__(self, inputs: dict):\n",
    "        # 메시지가 존재할 경우 가장 최근 메시지 1개 추출\n",
    "        if messages := inputs.get(\"messages\", []):\n",
    "            message = messages[-1]\n",
    "        else:\n",
    "            raise ValueError(\"No message found in input\")\n",
    "\n",
    "        # 도구 호출 결과\n",
    "        outputs = []\n",
    "        for tool_call in message.tool_calls:\n",
    "            # 도구 호출 후 결과 저장\n",
    "            tool_result = self.tools_list[tool_call[\"name\"]].invoke(tool_call[\"args\"])\n",
    "            outputs.append(\n",
    "                # 도구 호출 결과를 메시지로 저장\n",
    "                ToolMessage(\n",
    "                    content=json.dumps(\n",
    "                        tool_result, ensure_ascii=False\n",
    "                    ),  # 도구 호출 결과를 문자열로 변환\n",
    "                    name=tool_call[\"name\"],\n",
    "                    tool_call_id=tool_call[\"id\"],\n",
    "                )\n",
    "            )\n",
    "\n",
    "        return {\"messages\": outputs}\n",
    "\n",
    "\n",
    "# 도구 노드 생성\n",
    "tool_node = BasicToolNode(tools=[tool])\n",
    "\n",
    "# 그래프에 도구 노드 추가\n",
    "graph_builder.add_node(\"tools\", tool_node)"
   ]
  },
  {
   "cell_type": "markdown",
   "id": "de52ecda",
   "metadata": {},
   "source": [
    "## 조건부 엣지(Conditional Edge)\n",
    "\n",
    "도구 노드가 추가되면 `conditional_edges`를 정의할 수 있습니다.\n",
    "\n",
    "**Edges**는 한 노드에서 다음 노드로 제어 흐름을 라우팅합니다. \n",
    "\n",
    "**Conditional edges**는 일반적으로 \"if\" 문을 포함하여 현재 그래프 상태에 따라 다른 노드로 라우팅합니다. 이러한 함수는 현재 그래프 `state`를 받아 다음에 호출할 Node 를 나타내는 **문자열 또는 문자열 목록** 을 반환합니다.\n",
    "\n",
    "아래에서는 `route_tools`라는 라우터 함수를 정의하여 챗봇의 출력에서 `tool_calls`를 확인합니다. \n",
    "\n",
    "이 함수를 `add_conditional_edges`를 호출하여 그래프에 제공하면, `chatbot` 노드가 완료될 때마다 이 함수를 확인하여 다음으로 어디로 갈지 결정합니다.\n",
    "\n",
    "조건은 도구 호출이 있으면 `tools`로, 없으면 `END`로 라우팅됩니다.\n",
    "\n",
    "**참고**\n",
    "\n",
    "- langgraph 에 pre-built 되어 있는 [tools_condition](https://langchain-ai.github.io/langgraph/reference/prebuilt/#tools_condition) 으로 대체할 수 있습니다."
   ]
  },
  {
   "cell_type": "markdown",
   "id": "f758bf4f",
   "metadata": {},
   "source": [
    "### `add_conditional_edges`\n",
    "\n",
    "![add_conditional_edges](./image/langgraph-02.png)\n",
    "\n",
    "`add_conditional_edges` 메서드는 시작 노드에서 여러 대상 노드로의 조건부 엣지를 추가합니다.\n",
    "\n",
    "**매개변수**\n",
    "- `source` (str): 시작 노드. 이 노드를 나갈 때 조건부 엣지가 실행됩니다.\n",
    "- `path` (Union[Callable, Runnable]): 다음 노드를 결정하는 호출 가능한 객체 또는 Runnable. `path_map`을 지정하지 않으면 하나 이상의 노드를 반환해야 합니다. `END`를 반환하면 그래프 실행이 중지됩니다.\n",
    "- `path_map` (Optional[Union[dict[Hashable, str], list[str]]]): 경로와 노드 이름 간의 매핑. 생략하면 `path`가 반환하는 값이 노드 이름이어야 합니다.\n",
    "- `then` (Optional[str]): `path`로 선택된 노드 실행 후 실행할 노드의 이름.\n",
    "\n",
    "**반환값**\n",
    "- Self: 메서드 체이닝을 위해 자기 자신을 반환합니다.\n",
    "\n",
    "**주요 기능**\n",
    "1. 조건부 엣지를 그래프에 추가합니다.\n",
    "2. `path_map`을 딕셔너리로 변환합니다.\n",
    "3. `path` 함수의 반환 타입을 분석하여 자동으로 `path_map`을 생성할 수 있습니다.\n",
    "4. 조건부 분기를 그래프에 저장합니다.\n",
    "\n",
    "**참고**\n",
    "- 이미 컴파일된 그래프에 엣지를 추가하면 경고 메시지가 출력됩니다.\n",
    "- `path` 함수의 반환 값에 대한 타입 힌트가 없거나 `path_map`이 제공되지 않으면, 그래프 시각화 시 해당 엣지가 그래프의 모든 노드로 전환될 수 있다고 가정합니다.\n",
    "- 동일한 이름의 분기가 이미 존재하는 경우 `ValueError`가 발생합니다."
   ]
  },
  {
   "cell_type": "code",
   "execution_count": 8,
   "id": "6a964c74",
   "metadata": {},
   "outputs": [],
   "source": [
    "from langgraph.graph import START, END\n",
    "\n",
    "\n",
    "def route_tools(\n",
    "    state: State,\n",
    "):\n",
    "    if messages := state.get(\"messages\", []):\n",
    "        # 가장 최근 AI 메시지 추출\n",
    "        ai_message = messages[-1]\n",
    "    else:\n",
    "        # 입력 상태에 메시지가 없는 경우 예외 발생\n",
    "        raise ValueError(f\"No messages found in input state to tool_edge: {state}\")\n",
    "\n",
    "    # AI 메시지에 도구 호출이 있는 경우 \"tools\" 반환\n",
    "    if hasattr(ai_message, \"tool_calls\") and len(ai_message.tool_calls) > 0:\n",
    "        # 도구 호출이 있는 경우 \"tools\" 반환\n",
    "        return \"tools\"\n",
    "    # 도구 호출이 없는 경우 \"END\" 반환\n",
    "    return END\n",
    "\n",
    "\n",
    "# `tools_condition` 함수는 챗봇이 도구 사용을 요청하면 \"tools\"를 반환하고, 직접 응답이 가능한 경우 \"END\"를 반환\n",
    "graph_builder.add_conditional_edges(\n",
    "    source=\"chatbot\",\n",
    "    path=route_tools,\n",
    "    # route_tools 의 반환값이 \"tools\" 인 경우 \"tools\" 노드로, 그렇지 않으면 END 노드로 라우팅\n",
    "    path_map={\"tools\": \"tools\", END: END},\n",
    ")\n",
    "\n",
    "# tools > chatbot\n",
    "graph_builder.add_edge(\"tools\", \"chatbot\")\n",
    "\n",
    "# START > chatbot\n",
    "graph_builder.add_edge(START, \"chatbot\")\n",
    "\n",
    "# 그래프 컴파일\n",
    "graph = graph_builder.compile()"
   ]
  },
  {
   "cell_type": "markdown",
   "id": "beab199c",
   "metadata": {},
   "source": [
    "**조건부 엣지**가 단일 노드에서 시작해야 합니다.\n",
    "\n",
    "이는 그래프에 \"`chatbot`\" 노드가 실행될 때마다 도구를 호출하면 'tools'로 이동하고, 직접 응답하면 루프를 종료하라는 의미입니다. \n",
    "\n",
    "사전 구축된 `tools_condition`처럼, 함수는 도구 호출이 없을 경우 `END` 문자열을 반환(그래프 종료) 합니다. 그래프가 `END`로 전환되면 더 이상 완료할 작업이 없으며 실행을 중지합니다."
   ]
  },
  {
   "cell_type": "code",
   "execution_count": 9,
   "id": "8d4d1118",
   "metadata": {},
   "outputs": [
    {
     "data": {
      "image/jpeg": "[encoded data removed]",
      "text/plain": [
       "<IPython.core.display.Image object>"
      ]
     },
     "metadata": {},
     "output_type": "display_data"
    }
   ],
   "source": [
    "from langchain_teddynote.graphs import visualize_graph\n",
    "\n",
    "# 그래프 시각화\n",
    "visualize_graph(graph)"
   ]
  },
  {
   "cell_type": "markdown",
   "id": "b736b473",
   "metadata": {},
   "source": [
    "이제 봇에게 훈련 데이터 외의 질문을 할 수 있습니다."
   ]
  },
  {
   "cell_type": "code",
   "execution_count": 10,
   "id": "31343b25",
   "metadata": {},
   "outputs": [
    {
     "name": "stdout",
     "output_type": "stream",
     "text": [
      "\n",
      "==============\n",
      "STEP: messages\n",
      "==============\n",
      "\n",
      "content='테디노트 YouTube 채널에 대해서 검색해 줘' id='7a40ab08-e5bd-43a7-b5a0-0d6b43be9033'\n",
      "\n",
      "==============\n",
      "STEP: messages\n",
      "==============\n",
      "\n",
      "content='' additional_kwargs={'tool_calls': [{'id': 'call_gWBTeEZkO6rJLqIYA4VYBjCl', 'function': {'arguments': '{\"query\":\"테디노트 YouTube 채널\"}', 'name': 'tavily_web_search'}, 'type': 'function'}], 'refusal': None} response_metadata={'token_usage': {'completion_tokens': 24, 'prompt_tokens': 105, 'total_tokens': 129, 'completion_tokens_details': {'accepted_prediction_tokens': 0, 'audio_tokens': 0, 'reasoning_tokens': 0, 'rejected_prediction_tokens': 0}, 'prompt_tokens_details': {'audio_tokens': 0, 'cached_tokens': 0}}, 'model_name': 'gpt-4o-mini-2024-07-18', 'system_fingerprint': None, 'finish_reason': 'tool_calls', 'logprobs': None} id='run-52a2fed6-55fd-4113-b005-bcc982ae0c3c-0' tool_calls=[{'name': 'tavily_web_search', 'args': {'query': '테디노트 YouTube 채널'}, 'id': 'call_gWBTeEZkO6rJLqIYA4VYBjCl', 'type': 'tool_call'}] usage_metadata={'input_tokens': 105, 'output_tokens': 24, 'total_tokens': 129}\n",
      "\n",
      "==============\n",
      "STEP: messages\n",
      "==============\n",
      "\n",
      "content='[{\"url\": \"https://www.youtube.com/channel/UCt2wAAXgm87ACiQnDHQEW6Q/community\", \"title\": \"테디노트 TeddyNote - YouTube\", \"content\": \"발표 영상이 모두 랭체인 공식 YouTube 채널에 올라와 있습니다. 다만, 영어로 영상이 업로드 되어 있어, 스크립트 기반으로 한글 팟캐스트로 변환하여 노션에 업로드 하고\", \"score\": 0.82795376, \"raw_content\": null}, {\"url\": \"https://www.youtube.com/channel/UCt2wAAXgm87ACiQnDHQEW6Q\", \"title\": \"테디노트 TeddyNote - YouTube\", \"content\": \"머신러닝 딥러닝을 위한 기초 수학과 통계입니다. · #머신러닝 #딥러닝 입문자를 위한 초스피드 기초 #수학 · 경사하강법 (Gradient Descent)의 기본 개념을 쉽게 알려\", \"score\": 0.6633424, \"raw_content\": null}, {\"url\": \"https://www.youtube.com/watch?v=aMUopbBrAmA\", \"title\": \"169. Modular RAG 를 지향하게 된 이유. 테디노트 YouTube / 브레인 ...\", \"content\": \"169. Modular RAG 를 지향하게 된 이유. 테디노트 YouTube / 브레인크루 이경록 크리에이터\\\\n\\\\nAI프렌즈\\\\n166 likes\\\\n4466 views\\\\n2 Oct 2024\\\\n■ 연사 :  테디노트 YouTube/ 브레인크루 이경록 크리에이터\\\\r\\\\n■ 주제 : Modular RAG 를 지향하게 된 이유 \\\\r\\\\n■ 내용 : \\\\r\\\\n● Naive ~ Advanced RAG 까지의 흐름\\\\r\\\\n● Modular RAG 의 개념 소개\\\\r\\\\n● 내가 Modular RAG 를 지향하게 된 이유\\\\r\\\\n\\\\r\\\\nAI Frenz 세미나는 수요일 저녁 7시에 찾아옵니다.\\\\r\\\\n▶ 홈페이지 https://aifrenz.org/\\\\r\\\\n▶ 카카오톡 https://bit.ly/aifrenzkakao\\\\r\\\\n▶ 유튜브 https://bit.ly/aifrenzyoutube\\\\r\\\\n▶ 페이스북 https://bit.ly/aifrenzfacebook\\\\r\\\\n▶ 뉴스레터 https://page.stibee.com/subscriptions...\\\\r\\\\n※ AI Frenz는 주로 카카오톡 오픈채팅방에서 소통하고 있습니다. (입장코드 문의)\\\\r\\\\n\\\\r\\\\n#AI #인공지능 #세미나\\\\r\\\\n\\\\r\\\\n\\\\r\\\\n※ 본 영상은 연구개발특구진흥재단의 사회문제해결 사전기획·확산 지원사업의 일환으로 추진되는 행사입니다.\\\\n11 comments\", \"score\": 0.45449692, \"raw_content\": \"# 169. Modular RAG 를 지향하게 된 이유. 테디노트 YouTube / 브레인크루 이경록 크리에이터\\\\n\\\\nAI프렌즈\\\\n166 likes\\\\n4466 views\\\\n2 Oct 2024\\\\n■ 연사 :  테디노트 YouTube/ 브레인크루 이경록 크리에이터\\\\r\\\\n■ 주제 : Modular RAG 를 지향하게 된 이유 \\\\r\\\\n■ 내용 : \\\\r\\\\n● Naive ~ Advanced RAG 까지의 흐름\\\\r\\\\n● Modular RAG 의 개념 소개\\\\r\\\\n● 내가 Modular RAG 를 지향하게 된 이유\\\\r\\\\n\\\\r\\\\nAI Frenz 세미나는 수요일 저녁 7시에 찾아옵니다.\\\\r\\\\n▶ 홈페이지 https://aifrenz.org/\\\\r\\\\n▶ 카카오톡 https://bit.ly/aifrenzkakao\\\\r\\\\n▶ 유튜브 https://bit.ly/aifrenzyoutube\\\\r\\\\n▶ 페이스북 https://bit.ly/aifrenzfacebook\\\\r\\\\n▶ 뉴스레터 https://page.stibee.com/subscriptions...\\\\r\\\\n※ AI Frenz는 주로 카카오톡 오픈채팅방에서 소통하고 있습니다. (입장코드 문의)\\\\r\\\\n\\\\r\\\\n#AI #인공지능 #세미나\\\\r\\\\n\\\\r\\\\n\\\\r\\\\n※ 본 영상은 연구개발특구진흥재단의 사회문제해결 사전기획·확산 지원사업의 일환으로 추진되는 행사입니다.\\\\n11 comments\"}]' name='tavily_web_search' id='ea4249d6-819b-4565-8e08-4fa7816732be' tool_call_id='call_gWBTeEZkO6rJLqIYA4VYBjCl'\n",
      "\n",
      "==============\n",
      "STEP: messages\n",
      "==============\n",
      "\n",
      "content='테디노트(TeddyNote) 유튜브 채널에 대한 정보는 다음과 같습니다:\\n\\n1. **채널 링크**: [테디노트 TeddyNote - YouTube](https://www.youtube.com/channel/UCt2wAAXgm87ACiQnDHQEW6Q)\\n   - 이 채널은 머신러닝과 딥러닝을 위한 기초 수학 및 통계에 관한 내용을 다룹니다. 초보자를 위한 기초 수학 및 경사하강법(Gradient Descent)의 기본 개념을 쉽게 설명하는 영상이 포함되어 있습니다.\\n\\n2. **커뮤니티 정보**: [커뮤니티 게시판](https://www.youtube.com/channel/UCt2wAAXgm87ACiQnDHQEW6Q/community)\\n   - 발표 영상은 랭체인 공식 유튜브 채널에 업로드되며, 영어로 제공되는 영상을 스크립트 기반으로 한글 팟캐스트로 변환하여 노션에 업로드하는 내용도 포함되어 있습니다.\\n\\n3. **특별 영상**: [Modular RAG 관련 영상](https://www.youtube.com/watch?v=aMUopbBrAmA)\\n   - 이 영상에서는 Modular RAG에 대한 개념과 그 지향 이유를 설명합니다. 다양한 AI 관련 세미나와 행사에 대한 정보도 제공됩니다.\\n\\n채널은 머신러닝과 딥러닝 관련 주제를 중심으로 한 다양한 콘텐츠를 제공하고 있습니다.' additional_kwargs={'refusal': None} response_metadata={'token_usage': {'completion_tokens': 316, 'prompt_tokens': 1085, 'total_tokens': 1401, 'completion_tokens_details': {'accepted_prediction_tokens': 0, 'audio_tokens': 0, 'reasoning_tokens': 0, 'rejected_prediction_tokens': 0}, 'prompt_tokens_details': {'audio_tokens': 0, 'cached_tokens': 0}}, 'model_name': 'gpt-4o-mini-2024-07-18', 'system_fingerprint': None, 'finish_reason': 'stop', 'logprobs': None} id='run-4c0b3821-b223-4d67-8416-951b93a3c282-0' usage_metadata={'input_tokens': 1085, 'output_tokens': 316, 'total_tokens': 1401}\n"
     ]
    }
   ],
   "source": [
    "inputs = {\"messages\": \"테디노트 YouTube 채널에 대해서 검색해 줘\"}\n",
    "\n",
    "for event in graph.stream(inputs, stream_mode=\"values\"):\n",
    "    for key, value in event.items():\n",
    "        print(f\"\\n==============\\nSTEP: {key}\\n==============\\n\")\n",
    "        # display_message_tree(value[\"messages\"][-1])\n",
    "        print(value[-1])"
   ]
  },
  {
   "cell_type": "markdown",
   "id": "f4c6c5ac",
   "metadata": {},
   "source": [
    "도구 호출 후 구조에 대한 이미지"
   ]
  },
  {
   "cell_type": "markdown",
   "id": "23623eec",
   "metadata": {},
   "source": [
    "![](./image/tool-message-01.png)"
   ]
  },
  {
   "cell_type": "markdown",
   "id": "ff003852",
   "metadata": {},
   "source": [
    "- [이전 실행에 대한 LangSmith 추적](https://smith.langchain.com/public/4f82ddfa-a452-40f3-ab09-4eb088b812a4/r)"
   ]
  }
 ],
 "metadata": {
  "kernelspec": {
   "display_name": ".venv",
   "language": "python",
   "name": "python3"
  },
  "language_info": {
   "codemirror_mode": {
    "name": "ipython",
    "version": 3
   },
   "file_extension": ".py",
   "mimetype": "text/x-python",
   "name": "python",
   "nbconvert_exporter": "python",
   "pygments_lexer": "ipython3",
   "version": "3.12.10"
  }
 },
 "nbformat": 4,
 "nbformat_minor": 5
}
